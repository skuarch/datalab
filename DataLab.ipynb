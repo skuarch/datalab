{
 "cells": [
  {
   "cell_type": "code",
   "execution_count": 8,
   "metadata": {
    "collapsed": true
   },
   "outputs": [],
   "source": [
    "import pandas as pd \n",
    "import matplotlib.pyplot as plt \n",
    "import numpy as np\n",
    "from scipy.stats import chi2\n",
    "\n",
    "def ReturnDataFrame(path):\n",
    "        return pd.read_csv(path, sep=',',skipinitialspace=True)      "
   ]
  },
  {
   "cell_type": "code",
   "execution_count": 19,
   "metadata": {
    "collapsed": false
   },
   "outputs": [],
   "source": [
    "# Load CVS\n",
    "Path1 = '~/Dropbox/Classes/DataLab/Class/Notebook/voice.csv'\n",
    "DataMatrix = ReturnDataFrame(Path1)\n",
    "\n",
    "DataMatrix.replace({'male': -1.0, 'female': 1.0},\n",
    "                    inplace=True)\n",
    "\n",
    "DataLabels = DataMatrix['label']\n",
    "\n",
    "DataMatrix.drop('label', axis=1, inplace=True)\n",
    "\n",
    "# Transform to an NP Array\n",
    "Data = DataMatrix.as_matrix()\n",
    "Label = DataLabels.as_matrix()"
   ]
  },
  {
   "cell_type": "code",
   "execution_count": 16,
   "metadata": {
    "collapsed": false
   },
   "outputs": [
    {
     "data": {
      "text/plain": [
       "array([  0.18090661,   0.05712596,   0.18562068,   0.14045559,\n",
       "         0.22476496,   0.08430937,   3.14016752,  36.56846079,\n",
       "         0.89512706,   0.40821641,   0.1652818 ,   0.18090661,\n",
       "         0.14280673,   0.03680181,   0.25884225,   0.82921096,\n",
       "         0.05264705,   5.04727674,   4.99462969,   0.17375151])"
      ]
     },
     "execution_count": 16,
     "metadata": {},
     "output_type": "execute_result"
    }
   ],
   "source": [
    "np.mean(Data,axis = 0)"
   ]
  },
  {
   "cell_type": "code",
   "execution_count": 20,
   "metadata": {
    "collapsed": false
   },
   "outputs": [
    {
     "data": {
      "text/plain": [
       "array([-1., -1., -1., ...,  1.,  1.,  1.])"
      ]
     },
     "execution_count": 20,
     "metadata": {},
     "output_type": "execute_result"
    }
   ],
   "source": [
    "Label"
   ]
  },
  {
   "cell_type": "code",
   "execution_count": 22,
   "metadata": {
    "collapsed": false
   },
   "outputs": [
    {
     "data": {
      "text/plain": [
       "(3168, 20)"
      ]
     },
     "execution_count": 22,
     "metadata": {},
     "output_type": "execute_result"
    }
   ],
   "source": [
    "Data.shape"
   ]
  },
  {
   "cell_type": "code",
   "execution_count": 30,
   "metadata": {
    "collapsed": false
   },
   "outputs": [],
   "source": [
    "Data = np.matrix(Data)\n",
    "DataMean = Data - np.mean(Data,axis = 0)"
   ]
  },
  {
   "cell_type": "code",
   "execution_count": 31,
   "metadata": {
    "collapsed": false
   },
   "outputs": [],
   "source": [
    "Cov = DataMean.T*DataMean"
   ]
  },
  {
   "cell_type": "code",
   "execution_count": 33,
   "metadata": {
    "collapsed": false
   },
   "outputs": [],
   "source": [
    "n1, n2 = Data.shape"
   ]
  },
  {
   "cell_type": "code",
   "execution_count": 34,
   "metadata": {
    "collapsed": false
   },
   "outputs": [
    {
     "data": {
      "text/plain": [
       "3168"
      ]
     },
     "execution_count": 34,
     "metadata": {},
     "output_type": "execute_result"
    }
   ],
   "source": [
    "n1"
   ]
  },
  {
   "cell_type": "code",
   "execution_count": 45,
   "metadata": {
    "collapsed": true
   },
   "outputs": [],
   "source": [
    "Cov = (1/float(n1-1))*Cov"
   ]
  },
  {
   "cell_type": "code",
   "execution_count": 46,
   "metadata": {
    "collapsed": false
   },
   "outputs": [],
   "source": [
    "Eigenvaluesc, Eigenvectorsc = np.linalg.eigh(Cov) \n",
    "idx = Eigenvaluesc.argsort()[::-1]  \n",
    "Eigenvaluesc = Eigenvaluesc[idx]\n",
    "Eigenvectorsc  =  Eigenvectorsc [:,idx]"
   ]
  },
  {
   "cell_type": "code",
   "execution_count": 47,
   "metadata": {
    "collapsed": false
   },
   "outputs": [
    {
     "data": {
      "text/plain": [
       "array([  5.75277668e+00,   7.30053880e-03,   2.49553337e-04,\n",
       "         2.93996044e-05,   8.95736904e-06,   3.00496980e-06,\n",
       "         1.53333874e-06,   1.03523527e-06,   5.04313888e-07,\n",
       "         3.32852205e-07,   2.68592460e-07,   1.53046873e-07,\n",
       "         8.06759327e-08,   5.65794227e-08,   4.95304721e-08,\n",
       "         8.53471404e-09,   1.91937598e-09,   2.59988240e-16,\n",
       "         7.87289206e-18,   2.16832855e-20])"
      ]
     },
     "execution_count": 47,
     "metadata": {},
     "output_type": "execute_result"
    }
   ],
   "source": [
    "Eigenvaluesc "
   ]
  },
  {
   "cell_type": "code",
   "execution_count": null,
   "metadata": {
    "collapsed": true
   },
   "outputs": [],
   "source": []
  }
 ],
 "metadata": {
  "kernelspec": {
   "display_name": "Python 2",
   "language": "python",
   "name": "python2"
  },
  "language_info": {
   "codemirror_mode": {
    "name": "ipython",
    "version": 2
   },
   "file_extension": ".py",
   "mimetype": "text/x-python",
   "name": "python",
   "nbconvert_exporter": "python",
   "pygments_lexer": "ipython2",
   "version": "2.7.12"
  }
 },
 "nbformat": 4,
 "nbformat_minor": 1
}
