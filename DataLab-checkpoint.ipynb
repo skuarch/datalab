{
 "cells": [
  {
   "cell_type": "code",
   "execution_count": 1,
   "metadata": {
    "collapsed": true
   },
   "outputs": [],
   "source": [
    "import pandas as pd \n",
    "import matplotlib.pyplot as plt \n",
    "import numpy as np\n",
    "from scipy.stats import chi2\n",
    "\n",
    "def ReturnDataFrame(path):\n",
    "        return pd.read_csv(path, sep=',',skipinitialspace=True)      "
   ]
  },
  {
   "cell_type": "code",
   "execution_count": 3,
   "metadata": {
    "collapsed": false
   },
   "outputs": [],
   "source": [
    "# Load CVS\n",
    "Path1 = './voice.csv'\n",
    "DataMatrix = ReturnDataFrame(Path1)\n",
    "\n",
    "DataMatrix.replace({'male': -1.0, 'female': 1.0},\n",
    "                    inplace=True)\n",
    "\n",
    "DataLabels = DataMatrix['label']\n",
    "\n",
    "DataMatrix.drop('label', axis=1, inplace=True)\n",
    "\n",
    "# Transform to an NP Array\n",
    "Data = DataMatrix.as_matrix()\n",
    "Label = DataLabels.as_matrix()"
   ]
  },
  {
   "cell_type": "code",
   "execution_count": 4,
   "metadata": {
    "collapsed": false
   },
   "outputs": [
    {
     "data": {
      "text/plain": [
       "array([  0.18090661,   0.05712596,   0.18562068,   0.14045559,\n",
       "         0.22476496,   0.08430937,   3.14016752,  36.56846079,\n",
       "         0.89512706,   0.40821641,   0.1652818 ,   0.18090661,\n",
       "         0.14280673,   0.03680181,   0.25884225,   0.82921096,\n",
       "         0.05264705,   5.04727674,   4.99462969,   0.17375151])"
      ]
     },
     "execution_count": 4,
     "metadata": {},
     "output_type": "execute_result"
    }
   ],
   "source": [
    "np.mean(Data,axis = 0)"
   ]
  },
  {
   "cell_type": "code",
   "execution_count": 5,
   "metadata": {
    "collapsed": false
   },
   "outputs": [
    {
     "data": {
      "text/plain": [
       "array([-1., -1., -1., ...,  1.,  1.,  1.])"
      ]
     },
     "execution_count": 5,
     "metadata": {},
     "output_type": "execute_result"
    }
   ],
   "source": [
    "Label"
   ]
  },
  {
   "cell_type": "code",
   "execution_count": 6,
   "metadata": {
    "collapsed": false
   },
   "outputs": [
    {
     "data": {
      "text/plain": [
       "(3168, 20)"
      ]
     },
     "execution_count": 6,
     "metadata": {},
     "output_type": "execute_result"
    }
   ],
   "source": [
    "Data.shape"
   ]
  },
  {
   "cell_type": "code",
   "execution_count": 7,
   "metadata": {
    "collapsed": false
   },
   "outputs": [],
   "source": [
    "Data = np.matrix(Data)\n",
    "DataMean = Data - np.mean(Data,axis = 0)"
   ]
  },
  {
   "cell_type": "code",
   "execution_count": 8,
   "metadata": {
    "collapsed": false
   },
   "outputs": [],
   "source": [
    "Cov = DataMean.T*DataMean"
   ]
  },
  {
   "cell_type": "code",
   "execution_count": 9,
   "metadata": {
    "collapsed": false
   },
   "outputs": [],
   "source": [
    "n1, n2 = Data.shape"
   ]
  },
  {
   "cell_type": "code",
   "execution_count": 10,
   "metadata": {
    "collapsed": false
   },
   "outputs": [
    {
     "data": {
      "text/plain": [
       "3168"
      ]
     },
     "execution_count": 10,
     "metadata": {},
     "output_type": "execute_result"
    }
   ],
   "source": [
    "n1"
   ]
  },
  {
   "cell_type": "code",
   "execution_count": 11,
   "metadata": {
    "collapsed": true
   },
   "outputs": [],
   "source": [
    "Cov = (1/float(n1))*Cov"
   ]
  },
  {
   "cell_type": "code",
   "execution_count": 12,
   "metadata": {
    "collapsed": false
   },
   "outputs": [],
   "source": [
    "Eigenvaluesc, Eigenvectorsc = np.linalg.eigh(Cov) \n",
    "idx = Eigenvaluesc.argsort()[::-1]  \n",
    "Eigenvaluesc = Eigenvaluesc[idx]\n",
    "Eigenvectorsc  =  Eigenvectorsc [:,idx]"
   ]
  },
  {
   "cell_type": "code",
   "execution_count": 13,
   "metadata": {
    "collapsed": false
   },
   "outputs": [
    {
     "data": {
      "text/plain": [
       "array([  1.82190438e+04,   2.31208064e+01,   7.90335420e-01,\n",
       "         9.31085470e-02,   2.83679877e-02,   9.51673936e-03,\n",
       "         4.85608379e-03,   3.27859010e-03,   1.59716208e-03,\n",
       "         1.05414293e-03,   8.50632320e-04,   4.84699445e-04,\n",
       "         2.55500679e-04,   1.79187032e-04,   1.56863005e-04,\n",
       "         2.70294326e-05,   6.07866063e-06,   4.45668455e-13,\n",
       "         1.82924229e-15,  -2.91043707e-17])"
      ]
     },
     "execution_count": 13,
     "metadata": {},
     "output_type": "execute_result"
    }
   ],
   "source": [
    "Eigenvaluesc "
   ]
  },
  {
   "cell_type": "code",
   "execution_count": null,
   "metadata": {
    "collapsed": false
   },
   "outputs": [],
   "source": []
  },
  {
   "cell_type": "code",
   "execution_count": null,
   "metadata": {
    "collapsed": true
   },
   "outputs": [],
   "source": []
  }
 ],
 "metadata": {
  "kernelspec": {
   "display_name": "Python [Root]",
   "language": "python",
   "name": "Python [Root]"
  },
  "language_info": {
   "codemirror_mode": {
    "name": "ipython",
    "version": 2
   },
   "file_extension": ".py",
   "mimetype": "text/x-python",
   "name": "python",
   "nbconvert_exporter": "python",
   "pygments_lexer": "ipython2",
   "version": "2.7.12"
  }
 },
 "nbformat": 4,
 "nbformat_minor": 1
}
