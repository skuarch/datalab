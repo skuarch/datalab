{
 "cells": [
  {
   "cell_type": "code",
   "execution_count": 5,
   "metadata": {
    "collapsed": true
   },
   "outputs": [],
   "source": [
    "List1 = [[] for x in range(10)]\n",
    "List2 = [[]]*10 #same reference"
   ]
  },
  {
   "cell_type": "code",
   "execution_count": 10,
   "metadata": {
    "collapsed": false
   },
   "outputs": [
    {
     "name": "stdout",
     "output_type": "stream",
     "text": [
      "[[], [], [], [], [], [], [], [], [], []]\n"
     ]
    }
   ],
   "source": [
    "print List1"
   ]
  },
  {
   "cell_type": "code",
   "execution_count": 8,
   "metadata": {
    "collapsed": false
   },
   "outputs": [],
   "source": [
    "#List2[1]=List1[1]+[1]"
   ]
  },
  {
   "cell_type": "code",
   "execution_count": 9,
   "metadata": {
    "collapsed": false
   },
   "outputs": [
    {
     "name": "stdout",
     "output_type": "stream",
     "text": [
      "[[], [1], [], [], [], [], [], [], [], []]\n"
     ]
    }
   ],
   "source": []
  },
  {
   "cell_type": "code",
   "execution_count": 11,
   "metadata": {
    "collapsed": true
   },
   "outputs": [],
   "source": [
    "List1[1].append(2)"
   ]
  },
  {
   "cell_type": "code",
   "execution_count": 12,
   "metadata": {
    "collapsed": false
   },
   "outputs": [
    {
     "name": "stdout",
     "output_type": "stream",
     "text": [
      "[[], [2], [], [], [], [], [], [], [], []]\n"
     ]
    }
   ],
   "source": [
    "print List1"
   ]
  },
  {
   "cell_type": "code",
   "execution_count": null,
   "metadata": {
    "collapsed": true
   },
   "outputs": [],
   "source": []
  },
  {
   "cell_type": "code",
   "execution_count": 29,
   "metadata": {
    "collapsed": false
   },
   "outputs": [
    {
     "name": "stdout",
     "output_type": "stream",
     "text": [
      "[[0, 0], [7, 7], [14, 14]]\n",
      "[[1, 1], [8, 8], [15, 15]]\n",
      "[[2, 2], [9, 9], [16, 16]]\n",
      "[[3, 3], [10, 10], [17, 17]]\n",
      "[[4, 4], [11, 11], [18, 18]]\n",
      "[[5, 5], [12, 12], [19, 19]]\n",
      "[[6, 6], [13, 13]]\n"
     ]
    }
   ],
   "source": [
    "class HashTable:\n",
    "    def __init__(self, m):\n",
    "        self.m = m\n",
    "        self.T = [[] for x in range(m)]\n",
    "        \n",
    "    def hash_function(self, key):\n",
    "        return key % self.m\n",
    "        \n",
    "    def add(self, key, value):\n",
    "        b_index = self.hash_function(key)\n",
    "        self.T[b_index].append([key, value])    \n",
    "    \n",
    "    def get(self, key):\n",
    "        Rtable = self.T[self.hash_function(key)]\n",
    "        for i in Rtable:\n",
    "            if key == i[0]:\n",
    "                return i[1]\n",
    "            \n",
    "    def deleted(self, key):\n",
    "        Rtable = self.T[self.hash_function(key)]\n",
    "        for i in Rtable:\n",
    "            if key == i[0]:\n",
    "                self.T.remove(i)\n",
    "                \n",
    "\n",
    "if __name__ == '__main__':\n",
    "    m = 7\n",
    "    table = HashTable(7)\n",
    "    for i in range(20):\n",
    "        table.add(i, i)\n",
    "        \n",
    "    for j in range(m):\n",
    "        print table.T[j]"
   ]
  },
  {
   "cell_type": "code",
   "execution_count": null,
   "metadata": {
    "collapsed": true
   },
   "outputs": [],
   "source": []
  }
 ],
 "metadata": {
  "kernelspec": {
   "display_name": "Python [Root]",
   "language": "python",
   "name": "Python [Root]"
  },
  "language_info": {
   "codemirror_mode": {
    "name": "ipython",
    "version": 2
   },
   "file_extension": ".py",
   "mimetype": "text/x-python",
   "name": "python",
   "nbconvert_exporter": "python",
   "pygments_lexer": "ipython2",
   "version": "2.7.12"
  }
 },
 "nbformat": 4,
 "nbformat_minor": 0
}
