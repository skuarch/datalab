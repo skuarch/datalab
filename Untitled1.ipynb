{
 "cells": [
  {
   "cell_type": "code",
   "execution_count": null,
   "metadata": {
    "collapsed": true
   },
   "outputs": [],
   "source": [
    "class Node:\n",
    "    def __init__(self, key, value):\n",
    "        self.key = key\n",
    "        self.value = value\n",
    "        self.leftChild = None\n",
    "        self.rightChild = None\n",
    "        \n",
    "    def getLeft():\n",
    "        return self.leftChild\n",
    "    \n",
    "    def getRight():\n",
    "        return self.rightChild\n",
    "    \n",
    "    def getKey(self, key):\n",
    "        return self.key\n",
    "    \n",
    "    def setKey(self, key):\n",
    "        self.key = key\n",
    "    \n",
    "    def getValue(self, value):\n",
    "        return self.value\n",
    "    \n",
    "    def setValue(self, value)\n",
    "        self.value = value\n",
    "        "
   ]
  }
 ],
 "metadata": {
  "kernelspec": {
   "display_name": "Python [Root]",
   "language": "python",
   "name": "Python [Root]"
  },
  "language_info": {
   "codemirror_mode": {
    "name": "ipython",
    "version": 2
   },
   "file_extension": ".py",
   "mimetype": "text/x-python",
   "name": "python",
   "nbconvert_exporter": "python",
   "pygments_lexer": "ipython2",
   "version": "2.7.12"
  }
 },
 "nbformat": 4,
 "nbformat_minor": 0
}
