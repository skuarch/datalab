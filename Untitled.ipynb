{
 "cells": [
  {
   "cell_type": "code",
   "execution_count": 12,
   "metadata": {
    "collapsed": true
   },
   "outputs": [],
   "source": [
    "# 0 1 1 2 3 5 8 13 21 34 55"
   ]
  },
  {
   "cell_type": "code",
   "execution_count": 79,
   "metadata": {
    "collapsed": false
   },
   "outputs": [
    {
     "data": {
      "text/plain": [
       "'\\ndef fib(num):\\n    \\n    counter = 0\\n    \\n    while(counter < num):\\n        counter += counter;   \\n    \\n    return counter \\n\\nprint fib(5)\\n'"
      ]
     },
     "execution_count": 79,
     "metadata": {},
     "output_type": "execute_result"
    }
   ],
   "source": [
    "'''\n",
    "def fib(num):\n",
    "    \n",
    "    counter = 0\n",
    "    \n",
    "    while(counter < num):\n",
    "        counter += counter;   \n",
    "    \n",
    "    return counter \n",
    "\n",
    "print fib(5)\n",
    "'''    "
   ]
  },
  {
   "cell_type": "code",
   "execution_count": 94,
   "metadata": {
    "collapsed": false
   },
   "outputs": [
    {
     "data": {
      "text/plain": [
       "2"
      ]
     },
     "execution_count": 94,
     "metadata": {},
     "output_type": "execute_result"
    }
   ],
   "source": [
    "class yrange:\n",
    "    def __init__(self, n):\n",
    "        self.i = 1\n",
    "        self.n = n\n",
    "        \n",
    "    def __iter__(self):\n",
    "        return self\n",
    "    \n",
    "    def next(self):\n",
    "        if self.i < self.n:            \n",
    "            self.i *= 2\n",
    "            return self.i\n",
    "        else:\n",
    "            raise StopIteration()\n",
    "            \n",
    "t = yrange(1000)\n",
    "t.next()\n"
   ]
  },
  {
   "cell_type": "code",
   "execution_count": 100,
   "metadata": {
    "collapsed": false
   },
   "outputs": [],
   "source": [
    "class ReverseIterator():\n",
    "    \n",
    "    def __init__(self, m):\n",
    "        self.m = m\n",
    "        \n",
    "    def __iter__(self):\n",
    "        return self\n",
    "    \n",
    "    def next(self):\n",
    "        end = self.m -1\n",
    "        if end > 0:\n",
    "            pass\n",
    "        else:\n",
    "            raise StopIteration()\n",
    "            \n",
    "reverseIterator = ReverseIterator(1000)\n",
    "reverseIterator.next()\n",
    "            "
   ]
  },
  {
   "cell_type": "code",
   "execution_count": null,
   "metadata": {
    "collapsed": true
   },
   "outputs": [],
   "source": []
  },
  {
   "cell_type": "code",
   "execution_count": 101,
   "metadata": {
    "collapsed": true
   },
   "outputs": [],
   "source": [
    "class Stack:\n",
    "    \"\"\"\n",
    "    Here we implement the stack class with operations\n",
    "    1.- Default constructor\n",
    "    2.- isEmpty to verify if the stack is empty\n",
    "    3.- pop to remove at the top\n",
    "    4.- push to add at the top\n",
    "    5.- peek to look at the element at the top\n",
    "    \"\"\"\n",
    "    # We use the list operations instead of a \n",
    "    # native implementation... for all operations\n",
    "    # The derived operations allows the O(1) desired \n",
    "    # complexity per operations!!!\n",
    "    \n",
    "    def __init__(self):\n",
    "        self.S = []\n",
    "    \n",
    "    # Complexity O(1)\n",
    "    def isEmpty(self):\n",
    "        return len(self.S)==0\n",
    "    \n",
    "    # Complexity O(1)\n",
    "    def pop(self):\n",
    "        return self.S.pop()\n",
    "    \n",
    "    # Complexity O(1)\n",
    "    def push(self, element):\n",
    "        return self.S.append(element)\n",
    "    \n",
    "    def peek(self):\n",
    "        return self.S[-1]\n",
    "        \n",
    "    # Complexity O(1)    \n",
    "    def size(self):\n",
    "        return len(self.S)"
   ]
  },
  {
   "cell_type": "code",
   "execution_count": null,
   "metadata": {
    "collapsed": true
   },
   "outputs": [],
   "source": []
  },
  {
   "cell_type": "code",
   "execution_count": null,
   "metadata": {
    "collapsed": true
   },
   "outputs": [],
   "source": []
  }
 ],
 "metadata": {
  "kernelspec": {
   "display_name": "Python [Root]",
   "language": "python",
   "name": "Python [Root]"
  },
  "language_info": {
   "codemirror_mode": {
    "name": "ipython",
    "version": 2
   },
   "file_extension": ".py",
   "mimetype": "text/x-python",
   "name": "python",
   "nbconvert_exporter": "python",
   "pygments_lexer": "ipython2",
   "version": "2.7.12"
  }
 },
 "nbformat": 4,
 "nbformat_minor": 0
}
