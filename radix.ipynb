{
 "cells": [
  {
   "cell_type": "code",
   "execution_count": 1,
   "metadata": {
    "collapsed": true
   },
   "outputs": [],
   "source": [
    "class Queue:\n",
    "    \"\"\"\n",
    "    The Queue class implement\n",
    "    1.- Default Constructor\n",
    "    2.- isEmpty to verify if the queue is empty\n",
    "    3.- enqueue to add at the end \n",
    "    4.- dequeue to remove at the front\n",
    "    5.- getFront to know the element at the front\n",
    "    6.- getBack to know the element at the back\n",
    "    7.- size to know how many elements there are at \n",
    "         the queues\n",
    "    \"\"\"\n",
    "\n",
    "    # We use the list operations instead of a \n",
    "    # native implementation... for all operations.\n",
    "    ##############################################\n",
    "    # For a native implementation, we need to look\n",
    "    # at the arrays to obtain O(1) complexity in \n",
    "    # all the operations using a circular array\n",
    "    ##############################################\n",
    "    # I love CPython, it allows a lot!!!\n",
    "    \n",
    "    def __init__(self):\n",
    "        self.Q = []\n",
    "    \n",
    "    # Complexity O(1)\n",
    "    def isEmpty(self):\n",
    "        return len(self.Q)==0\n",
    "    \n",
    "    # Complexity O(1)\n",
    "    def enqueue(self,item):\n",
    "        self.Q.append(item)\n",
    "    \n",
    "    # Complexity O(n)\n",
    "    # We need the CPython array to implement \n",
    "    # Circular Array...\n",
    "    def dequeue(self):\n",
    "        if self.Q!=[]:\n",
    "            return self.Q.pop(0)\n",
    "        else:\n",
    "            return None\n",
    "        \n",
    "    # Complexity O(1)    \n",
    "    def size(self):\n",
    "        return len(self.Q)\n",
    "    \n",
    "    # Complexity O(1)\n",
    "    def getFront(self):\n",
    "        return self.Q[0]\n",
    "    \n",
    "    # Complexity O(1)\n",
    "    def getBack(self):\n",
    "        return self.Q[-1]\n",
    "    \n",
    "class Stack:\n",
    "    \"\"\"\n",
    "    Here we implement the stack class with operations\n",
    "    1.- Default constructor\n",
    "    2.- isEmpty to verify if the stack is empty\n",
    "    3.- pop to remove at the top\n",
    "    4.- push to add at the top\n",
    "    5.- peek to look at the element at the top\n",
    "    \"\"\"\n",
    "    # We use the list operations instead of a \n",
    "    # native implementation... for all operations\n",
    "    # The derived operations allows the O(1) desired \n",
    "    # complexity per operations!!!\n",
    "    \n",
    "    def __init__(self):\n",
    "        self.S = []\n",
    "    \n",
    "    # Complexity O(1)\n",
    "    def isEmpty(self):\n",
    "        return len(self.S)==0\n",
    "    \n",
    "    # Complexity O(1)\n",
    "    def pop(self):\n",
    "        return self.S.pop()\n",
    "    \n",
    "    # Complexity O(1)\n",
    "    def push(self, element):\n",
    "        return self.S.append(element)\n",
    "    \n",
    "    def peek(self):\n",
    "        return self.S[-1]\n",
    "        \n",
    "    # Complexity O(1)    \n",
    "    def size(self):\n",
    "        return len(self.S)"
   ]
  },
  {
   "cell_type": "code",
   "execution_count": 3,
   "metadata": {
    "collapsed": true
   },
   "outputs": [],
   "source": [
    "unsortedlist = [1425, 1534, 1873, 1548]"
   ]
  },
  {
   "cell_type": "code",
   "execution_count": null,
   "metadata": {
    "collapsed": true
   },
   "outputs": [],
   "source": [
    "def radixMethod(unsortedList, radixColumns):\n",
    "    "
   ]
  }
 ],
 "metadata": {
  "kernelspec": {
   "display_name": "Python [Root]",
   "language": "python",
   "name": "Python [Root]"
  },
  "language_info": {
   "codemirror_mode": {
    "name": "ipython",
    "version": 2
   },
   "file_extension": ".py",
   "mimetype": "text/x-python",
   "name": "python",
   "nbconvert_exporter": "python",
   "pygments_lexer": "ipython2",
   "version": "2.7.12"
  }
 },
 "nbformat": 4,
 "nbformat_minor": 0
}
