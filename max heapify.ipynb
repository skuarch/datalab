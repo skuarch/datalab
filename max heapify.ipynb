{
 "cells": [
  {
   "cell_type": "code",
   "execution_count": 12,
   "metadata": {
    "collapsed": false
   },
   "outputs": [
    {
     "name": "stdout",
     "output_type": "stream",
     "text": [
      "[0, 100, 2, 34, 5, 5, 5, 4]\n"
     ]
    }
   ],
   "source": [
    "def max_heapify(array, i):\n",
    "    \n",
    "    l = left(i)\n",
    "    r = right(i)    \n",
    "    \n",
    "    heapSize = len(array) -1\n",
    "    \n",
    "    if l <= heapSize and array[l] >array[i]:\n",
    "        largest = l\n",
    "    else:\n",
    "        largest = i\n",
    "        \n",
    "    if r <= heapSize and array[r] > array[largest]:\n",
    "        largest = r\n",
    "        \n",
    "    if largest != i:\n",
    "        temp = array[largest]\n",
    "        array[largest] = array[i]\n",
    "        array[i] = temp        \n",
    "        max_heapify(array, largest)    \n",
    "\n",
    "        \n",
    "def build_max_heap(array):\n",
    "    heapSize = len(array) -1\n",
    "    \n",
    "    for i in range(heapSize / 2, 0, -1):\n",
    "        max_heapify(array, i)\n",
    "        \n",
    "def heap_sort(array):\n",
    "    pass\n",
    "\n",
    "\n",
    "def insertion(array, key):\n",
    "    array.append(key)\n",
    "    heapSize = len(array) -1\n",
    "    \n",
    "    i = heapSize\n",
    "    while  i > 1 and array[parent(i)] < array[i]:\n",
    "        temp = array[parent(i)]\n",
    "        array[parent(i)] = array[i]\n",
    "        array[i] = temp\n",
    "        i = parent(i)\n",
    "\n",
    "def parent(i):\n",
    "    return i/2\n",
    "    \n",
    "        \n",
    "def left(i):\n",
    "    return 2*i\n",
    "\n",
    "\n",
    "def right(i):\n",
    "    return 2*i+1\n",
    "\n",
    "\n",
    "if __name__ == '__main__':\n",
    "    array = [0, 34, 2, 4, 5, 5, 5]\n",
    "    #build_max_heap(array)\n",
    "    insertion(array, 100)\n",
    "    print array\n",
    "    \n",
    "\n"
   ]
  },
  {
   "cell_type": "code",
   "execution_count": null,
   "metadata": {
    "collapsed": true
   },
   "outputs": [],
   "source": []
  },
  {
   "cell_type": "code",
   "execution_count": null,
   "metadata": {
    "collapsed": true
   },
   "outputs": [],
   "source": []
  }
 ],
 "metadata": {
  "kernelspec": {
   "display_name": "Python [Root]",
   "language": "python",
   "name": "Python [Root]"
  },
  "language_info": {
   "codemirror_mode": {
    "name": "ipython",
    "version": 2
   },
   "file_extension": ".py",
   "mimetype": "text/x-python",
   "name": "python",
   "nbconvert_exporter": "python",
   "pygments_lexer": "ipython2",
   "version": "2.7.12"
  }
 },
 "nbformat": 4,
 "nbformat_minor": 0
}
