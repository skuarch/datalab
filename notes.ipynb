{
 "cells": [
  {
   "cell_type": "markdown",
   "metadata": {
    "collapsed": true
   },
   "source": [
    "#Notes\n",
    "\n",
    "- in python 3 uses the function print() in python 2 is an statement\n",
    "- python just assign the value to the var, is not necesary declare the type of variable\n",
    "- dictionaries stars from 1\n",
    "- list in python are linked, that means you have to iterate all the list to find a element\n",
    "- in a function you can define what type of arguments is, for example, *NameParam is for a list and **NameParam for dictionaries\n",
    "\n",
    "- homework exercices in github\n",
    "- fibonnaci in python\n",
    "- aplanar arrays\n",
    "- in order walk\n",
    "\n",
    "\n",
    "\n",
    "##use bitwise in the real life\n",
    "\n",
    "\n",
    "- wrap around (n % 5)\n",
    "\n",
    "\n",
    "##homework\n",
    "\n",
    "in github\n",
    "\n",
    "\n"
   ]
  }
 ],
 "metadata": {
  "kernelspec": {
   "display_name": "Python [Root]",
   "language": "python",
   "name": "Python [Root]"
  },
  "language_info": {
   "codemirror_mode": {
    "name": "ipython",
    "version": 2
   },
   "file_extension": ".py",
   "mimetype": "text/x-python",
   "name": "python",
   "nbconvert_exporter": "python",
   "pygments_lexer": "ipython2",
   "version": "2.7.12"
  }
 },
 "nbformat": 4,
 "nbformat_minor": 0
}
